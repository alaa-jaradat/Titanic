{
 "cells": [
  {
   "cell_type": "markdown",
   "metadata": {},
   "source": [
    "## Introduction:\n",
    "\n",
    "In this tutorial i will build a machine learning model to predict the passengers survived or not survived in the famous Titanic tragedy.\n",
    "<br>\n",
    "To get a brief knowledge about the Titanic, the following links would help:\n",
    "\n",
    "\"The Titanic was a luxury British steamship that sank in the early hours of April 15, 1912 after striking an iceberg, leading to the deaths of more than 1,500 passengers and crew.\" \n",
    "<br>\n",
    "Source: https://www.history.com/topics/early-20th-century-us/titanic\n",
    "\n",
    "\"How Did the 'Unsinkable' Titanic End Up at the Bottom of the Ocean?\"\n",
    "<br>\n",
    "Watch this short movie by National Geographic: https://www.youtube.com/watch?v=4pywFRpEcZA "
   ]
  },
  {
   "cell_type": "code",
   "execution_count": 7,
   "metadata": {},
   "outputs": [
    {
     "data": {
      "text/html": [
       "<iframe width=\"560\" height=\"315\" src=\"https://www.youtube.com/embed/4pywFRpEcZA \" frameborder=\"0\" allowfullscreen></iframe>"
      ],
      "text/plain": [
       "<IPython.core.display.HTML object>"
      ]
     },
     "execution_count": 7,
     "metadata": {},
     "output_type": "execute_result"
    }
   ],
   "source": [
    "from IPython.display import HTML\n",
    "HTML('<iframe width=\"560\" height=\"315\" src=\"https://www.youtube.com/embed/4pywFRpEcZA \" frameborder=\"0\" allowfullscreen></iframe>')"
   ]
  },
  {
   "cell_type": "markdown",
   "metadata": {},
   "source": [
    "**Kaggle** which is an online community of data scientits lanuched a competition to apply the tools of machine learning tools to predict which passengers survived the tragedy with the following description:\n",
    "<br>\n",
    "\"The sinking of the RMS Titanic is one of the most infamous shipwrecks in history.  On April 15, 1912, during her maiden voyage, the Titanic sank after colliding with an iceberg, killing 1502 out of 2224 passengers and crew. This sensational tragedy shocked the international community and led to better safety regulations for ships.\n",
    "\n",
    "One of the reasons that the shipwreck led to such loss of life was that there were not enough lifeboats for the passengers and crew. Although there was some element of luck involved in surviving the sinking, some groups of people were more likely to survive than others, such as women, children, and the upper-class.\n",
    "\n",
    "In this challenge, we ask you to complete the analysis of what sorts of people were likely to survive. In particular, we ask you to apply the tools of machine learning to predict which passengers survived the tragedy.\"\n",
    "<br>\n",
    "<br>\n",
    "In this tutorial i am going to use Kaggle titanic dataset that i downloaded into my workstation to make a prediction for the passenger survivors.\n",
    "<br>\n",
    "You can download the training dataset from here: \n",
    "<br>\n",
    "https://www.kaggle.com/c/titanic/download/train.csv\n",
    "<br> "
   ]
  },
  {
   "cell_type": "markdown",
   "metadata": {},
   "source": [
    "## Data Loading, Exploration, and Visualization:"
   ]
  },
  {
   "cell_type": "code",
   "execution_count": 16,
   "metadata": {},
   "outputs": [],
   "source": [
    "import pandas as pd\n",
    "import matplotlib.pyplot as plt\n",
    "import numpy as np\n",
    "import seaborn as sns"
   ]
  },
  {
   "cell_type": "code",
   "execution_count": 9,
   "metadata": {},
   "outputs": [
    {
     "data": {
      "text/html": [
       "<div>\n",
       "<style scoped>\n",
       "    .dataframe tbody tr th:only-of-type {\n",
       "        vertical-align: middle;\n",
       "    }\n",
       "\n",
       "    .dataframe tbody tr th {\n",
       "        vertical-align: top;\n",
       "    }\n",
       "\n",
       "    .dataframe thead th {\n",
       "        text-align: right;\n",
       "    }\n",
       "</style>\n",
       "<table border=\"1\" class=\"dataframe\">\n",
       "  <thead>\n",
       "    <tr style=\"text-align: right;\">\n",
       "      <th></th>\n",
       "      <th>PassengerId</th>\n",
       "      <th>Survived</th>\n",
       "      <th>Pclass</th>\n",
       "      <th>Name</th>\n",
       "      <th>Sex</th>\n",
       "      <th>Age</th>\n",
       "      <th>SibSp</th>\n",
       "      <th>Parch</th>\n",
       "      <th>Ticket</th>\n",
       "      <th>Fare</th>\n",
       "      <th>Cabin</th>\n",
       "      <th>Embarked</th>\n",
       "    </tr>\n",
       "  </thead>\n",
       "  <tbody>\n",
       "    <tr>\n",
       "      <th>0</th>\n",
       "      <td>1</td>\n",
       "      <td>0</td>\n",
       "      <td>3</td>\n",
       "      <td>Braund, Mr. Owen Harris</td>\n",
       "      <td>male</td>\n",
       "      <td>22.0</td>\n",
       "      <td>1</td>\n",
       "      <td>0</td>\n",
       "      <td>A/5 21171</td>\n",
       "      <td>7.2500</td>\n",
       "      <td>NaN</td>\n",
       "      <td>S</td>\n",
       "    </tr>\n",
       "    <tr>\n",
       "      <th>1</th>\n",
       "      <td>2</td>\n",
       "      <td>1</td>\n",
       "      <td>1</td>\n",
       "      <td>Cumings, Mrs. John Bradley (Florence Briggs Th...</td>\n",
       "      <td>female</td>\n",
       "      <td>38.0</td>\n",
       "      <td>1</td>\n",
       "      <td>0</td>\n",
       "      <td>PC 17599</td>\n",
       "      <td>71.2833</td>\n",
       "      <td>C85</td>\n",
       "      <td>C</td>\n",
       "    </tr>\n",
       "    <tr>\n",
       "      <th>2</th>\n",
       "      <td>3</td>\n",
       "      <td>1</td>\n",
       "      <td>3</td>\n",
       "      <td>Heikkinen, Miss. Laina</td>\n",
       "      <td>female</td>\n",
       "      <td>26.0</td>\n",
       "      <td>0</td>\n",
       "      <td>0</td>\n",
       "      <td>STON/O2. 3101282</td>\n",
       "      <td>7.9250</td>\n",
       "      <td>NaN</td>\n",
       "      <td>S</td>\n",
       "    </tr>\n",
       "    <tr>\n",
       "      <th>3</th>\n",
       "      <td>4</td>\n",
       "      <td>1</td>\n",
       "      <td>1</td>\n",
       "      <td>Futrelle, Mrs. Jacques Heath (Lily May Peel)</td>\n",
       "      <td>female</td>\n",
       "      <td>35.0</td>\n",
       "      <td>1</td>\n",
       "      <td>0</td>\n",
       "      <td>113803</td>\n",
       "      <td>53.1000</td>\n",
       "      <td>C123</td>\n",
       "      <td>S</td>\n",
       "    </tr>\n",
       "    <tr>\n",
       "      <th>4</th>\n",
       "      <td>5</td>\n",
       "      <td>0</td>\n",
       "      <td>3</td>\n",
       "      <td>Allen, Mr. William Henry</td>\n",
       "      <td>male</td>\n",
       "      <td>35.0</td>\n",
       "      <td>0</td>\n",
       "      <td>0</td>\n",
       "      <td>373450</td>\n",
       "      <td>8.0500</td>\n",
       "      <td>NaN</td>\n",
       "      <td>S</td>\n",
       "    </tr>\n",
       "    <tr>\n",
       "      <th>5</th>\n",
       "      <td>6</td>\n",
       "      <td>0</td>\n",
       "      <td>3</td>\n",
       "      <td>Moran, Mr. James</td>\n",
       "      <td>male</td>\n",
       "      <td>NaN</td>\n",
       "      <td>0</td>\n",
       "      <td>0</td>\n",
       "      <td>330877</td>\n",
       "      <td>8.4583</td>\n",
       "      <td>NaN</td>\n",
       "      <td>Q</td>\n",
       "    </tr>\n",
       "    <tr>\n",
       "      <th>6</th>\n",
       "      <td>7</td>\n",
       "      <td>0</td>\n",
       "      <td>1</td>\n",
       "      <td>McCarthy, Mr. Timothy J</td>\n",
       "      <td>male</td>\n",
       "      <td>54.0</td>\n",
       "      <td>0</td>\n",
       "      <td>0</td>\n",
       "      <td>17463</td>\n",
       "      <td>51.8625</td>\n",
       "      <td>E46</td>\n",
       "      <td>S</td>\n",
       "    </tr>\n",
       "    <tr>\n",
       "      <th>7</th>\n",
       "      <td>8</td>\n",
       "      <td>0</td>\n",
       "      <td>3</td>\n",
       "      <td>Palsson, Master. Gosta Leonard</td>\n",
       "      <td>male</td>\n",
       "      <td>2.0</td>\n",
       "      <td>3</td>\n",
       "      <td>1</td>\n",
       "      <td>349909</td>\n",
       "      <td>21.0750</td>\n",
       "      <td>NaN</td>\n",
       "      <td>S</td>\n",
       "    </tr>\n",
       "    <tr>\n",
       "      <th>8</th>\n",
       "      <td>9</td>\n",
       "      <td>1</td>\n",
       "      <td>3</td>\n",
       "      <td>Johnson, Mrs. Oscar W (Elisabeth Vilhelmina Berg)</td>\n",
       "      <td>female</td>\n",
       "      <td>27.0</td>\n",
       "      <td>0</td>\n",
       "      <td>2</td>\n",
       "      <td>347742</td>\n",
       "      <td>11.1333</td>\n",
       "      <td>NaN</td>\n",
       "      <td>S</td>\n",
       "    </tr>\n",
       "    <tr>\n",
       "      <th>9</th>\n",
       "      <td>10</td>\n",
       "      <td>1</td>\n",
       "      <td>2</td>\n",
       "      <td>Nasser, Mrs. Nicholas (Adele Achem)</td>\n",
       "      <td>female</td>\n",
       "      <td>14.0</td>\n",
       "      <td>1</td>\n",
       "      <td>0</td>\n",
       "      <td>237736</td>\n",
       "      <td>30.0708</td>\n",
       "      <td>NaN</td>\n",
       "      <td>C</td>\n",
       "    </tr>\n",
       "  </tbody>\n",
       "</table>\n",
       "</div>"
      ],
      "text/plain": [
       "   PassengerId  Survived  Pclass  \\\n",
       "0            1         0       3   \n",
       "1            2         1       1   \n",
       "2            3         1       3   \n",
       "3            4         1       1   \n",
       "4            5         0       3   \n",
       "5            6         0       3   \n",
       "6            7         0       1   \n",
       "7            8         0       3   \n",
       "8            9         1       3   \n",
       "9           10         1       2   \n",
       "\n",
       "                                                Name     Sex   Age  SibSp  \\\n",
       "0                            Braund, Mr. Owen Harris    male  22.0      1   \n",
       "1  Cumings, Mrs. John Bradley (Florence Briggs Th...  female  38.0      1   \n",
       "2                             Heikkinen, Miss. Laina  female  26.0      0   \n",
       "3       Futrelle, Mrs. Jacques Heath (Lily May Peel)  female  35.0      1   \n",
       "4                           Allen, Mr. William Henry    male  35.0      0   \n",
       "5                                   Moran, Mr. James    male   NaN      0   \n",
       "6                            McCarthy, Mr. Timothy J    male  54.0      0   \n",
       "7                     Palsson, Master. Gosta Leonard    male   2.0      3   \n",
       "8  Johnson, Mrs. Oscar W (Elisabeth Vilhelmina Berg)  female  27.0      0   \n",
       "9                Nasser, Mrs. Nicholas (Adele Achem)  female  14.0      1   \n",
       "\n",
       "   Parch            Ticket     Fare Cabin Embarked  \n",
       "0      0         A/5 21171   7.2500   NaN        S  \n",
       "1      0          PC 17599  71.2833   C85        C  \n",
       "2      0  STON/O2. 3101282   7.9250   NaN        S  \n",
       "3      0            113803  53.1000  C123        S  \n",
       "4      0            373450   8.0500   NaN        S  \n",
       "5      0            330877   8.4583   NaN        Q  \n",
       "6      0             17463  51.8625   E46        S  \n",
       "7      1            349909  21.0750   NaN        S  \n",
       "8      2            347742  11.1333   NaN        S  \n",
       "9      0            237736  30.0708   NaN        C  "
      ]
     },
     "execution_count": 9,
     "metadata": {},
     "output_type": "execute_result"
    }
   ],
   "source": [
    "titanic = pd.read_csv(r\"C:\\Users\\Test\\Downloads\\Course\\Kaggle\\titanic\\train.csv\")\n",
    "titanic.head(10)"
   ]
  },
  {
   "cell_type": "markdown",
   "metadata": {},
   "source": [
    "The discription of the attributes from Kaggle is as follows:\n",
    "\n",
    "survival: Survival ( 0 = No, 1 = Yes )\n",
    "<br>\n",
    "pclass: Ticket class ( 1 = 1st, 2 = 2nd, 3 = 3rd )\n",
    "<br>\n",
    "sex: Sex\n",
    "<br>\n",
    "Age: Age in years\n",
    "<br>\n",
    "sibsp: # of siblings / spouses aboard the Titanic\n",
    "<br>\n",
    "parch: # of parents / children aboard the Titanic\n",
    "<br>\n",
    "ticket: Ticket number\n",
    "<br>\n",
    "fare: Passenger fare\n",
    "<br>\n",
    "cabin: Cabin number\n",
    "<br>\n",
    "embarked: Port of Embarkation ( C = Cherbourg, Q = Queenstown, S = Southampton )"
   ]
  },
  {
   "cell_type": "code",
   "execution_count": 14,
   "metadata": {},
   "outputs": [
    {
     "name": "stdout",
     "output_type": "stream",
     "text": [
      "<class 'pandas.core.frame.DataFrame'>\n",
      "RangeIndex: 891 entries, 0 to 890\n",
      "Data columns (total 12 columns):\n",
      "PassengerId    891 non-null int64\n",
      "Survived       891 non-null int64\n",
      "Pclass         891 non-null int64\n",
      "Name           891 non-null object\n",
      "Sex            891 non-null object\n",
      "Age            714 non-null float64\n",
      "SibSp          891 non-null int64\n",
      "Parch          891 non-null int64\n",
      "Ticket         891 non-null object\n",
      "Fare           891 non-null float64\n",
      "Cabin          204 non-null object\n",
      "Embarked       889 non-null object\n",
      "dtypes: float64(2), int64(5), object(5)\n",
      "memory usage: 83.6+ KB\n"
     ]
    }
   ],
   "source": [
    "# How many records and what data types do we have in the titanic dataframe ?\n",
    "titanic.info()"
   ]
  },
  {
   "cell_type": "markdown",
   "metadata": {},
   "source": [
    "So we have a total of 891 records with a mixure of continuous and catergorical features.\n",
    "<br>\n",
    "And it is seems that we have some missing data in the (Age, Cabin, Embarked) features.\n",
    "<br>"
   ]
  },
  {
   "cell_type": "code",
   "execution_count": 15,
   "metadata": {},
   "outputs": [
    {
     "data": {
      "text/html": [
       "<div>\n",
       "<style scoped>\n",
       "    .dataframe tbody tr th:only-of-type {\n",
       "        vertical-align: middle;\n",
       "    }\n",
       "\n",
       "    .dataframe tbody tr th {\n",
       "        vertical-align: top;\n",
       "    }\n",
       "\n",
       "    .dataframe thead th {\n",
       "        text-align: right;\n",
       "    }\n",
       "</style>\n",
       "<table border=\"1\" class=\"dataframe\">\n",
       "  <thead>\n",
       "    <tr style=\"text-align: right;\">\n",
       "      <th></th>\n",
       "      <th>Survived</th>\n",
       "      <th>Pclass</th>\n",
       "      <th>Name</th>\n",
       "      <th>Sex</th>\n",
       "      <th>Age</th>\n",
       "      <th>SibSp</th>\n",
       "      <th>Parch</th>\n",
       "      <th>Ticket</th>\n",
       "      <th>Fare</th>\n",
       "      <th>Cabin</th>\n",
       "      <th>Embarked</th>\n",
       "    </tr>\n",
       "  </thead>\n",
       "  <tbody>\n",
       "  </tbody>\n",
       "</table>\n",
       "</div>"
      ],
      "text/plain": [
       "Empty DataFrame\n",
       "Columns: [Survived, Pclass, Name, Sex, Age, SibSp, Parch, Ticket, Fare, Cabin, Embarked]\n",
       "Index: []"
      ]
     },
     "execution_count": 15,
     "metadata": {},
     "output_type": "execute_result"
    }
   ],
   "source": [
    "# Do we have duplicate records in the dataset ? \n",
    "# The PassengerId column is added to uniquely identify each record, so let's drop it first.\n",
    "titanic_no_id = titanic.drop('PassengerId', 1)\n",
    "# Now we can check if the dataset have duplicate records or not\n",
    "titanic_no_id[titanic_no_id.duplicated() == True]"
   ]
  },
  {
   "cell_type": "markdown",
   "metadata": {},
   "source": [
    "Great! There are no duplicate records.\n",
    "<br>\n",
    "It is the time to explore/visualize the titanic dataset by looping through the features to get the following results for each feature:\n",
    "<br>\n",
    "Number of existing entries\n",
    "<br>\n",
    "Number of missing entries\n",
    "<br>\n",
    "Value counts summary\n",
    "<br>\n",
    "Data type\n",
    "<br>\n",
    "Feature description ( To be read from a dictionary object )\n",
    "<br>\n",
    "A Histogram to compare the feature classes wrt the Survived Label"
   ]
  },
  {
   "cell_type": "code",
   "execution_count": 18,
   "metadata": {},
   "outputs": [],
   "source": [
    "# Dictionary object which stores the description of the features\n",
    "featuresDesc = {\n",
    "    \"PassengerId\" : \"type should be integers\",\n",
    "    \"Survived\" : \"Survived or Not\",\n",
    "    \"Pclass\" : \"Class of Travel\",\n",
    "    \"Name\" : \"Name of Passenger\",\n",
    "    \"Sex\" : \"Gender\",\n",
    "    \"Age\" : \"Age of Passengers\",\n",
    "    \"SibSp\" : \"Number of Sibling/Spouse aboard\",\n",
    "    \"Parch\" : \"Number of Parent/Child aboard\",\n",
    "    \"Ticket\" : \"\",\n",
    "    \"Fare\" : \"\",\n",
    "    \"Cabin\" : \"\",\n",
    "    \"Embarked\" : \"The port in which a passenger has embarked. C - Cherbourg, S - Southampton, Q = Queenstown\"\n",
    "}"
   ]
  },
  {
   "cell_type": "code",
   "execution_count": 23,
   "metadata": {},
   "outputs": [
    {
     "name": "stdout",
     "output_type": "stream",
     "text": [
      "The column has all unique values\n",
      "0    1\n",
      "1    2\n",
      "2    3\n",
      "3    4\n",
      "4    5\n",
      "Name: PassengerId, dtype: int64\n",
      "Feature Description:  type should be integers\n",
      "\n",
      "****************************************************\n",
      "****************************************************\n",
      "****************************************************\n",
      "****************************************************\n",
      "****************************************************\n",
      "\n",
      "0    549\n",
      "1    342\n",
      "Name: Survived, dtype: int64\n",
      "Total records with values:  891\n",
      "Total records with NaNs:  0\n",
      "Feature Description:  Survived or Not\n"
     ]
    },
    {
     "data": {
      "image/png": "[encoded data removed]",
      "text/plain": [
       "<Figure size 720x360 with 1 Axes>"
      ]
     },
     "metadata": {
      "needs_background": "light"
     },
     "output_type": "display_data"
    },
    {
     "name": "stdout",
     "output_type": "stream",
     "text": [
      "\n",
      "****************************************************\n",
      "****************************************************\n",
      "****************************************************\n",
      "****************************************************\n",
      "****************************************************\n",
      "\n",
      "3    491\n",
      "1    216\n",
      "2    184\n",
      "Name: Pclass, dtype: int64\n",
      "Total records with values:  891\n",
      "Total records with NaNs:  0\n",
      "Feature Description:  Class of Travel\n"
     ]
    },
    {
     "data": {
      "image/png": "[encoded data removed]",
      "text/plain": [
       "<Figure size 720x360 with 1 Axes>"
      ]
     },
     "metadata": {
      "needs_background": "light"
     },
     "output_type": "display_data"
    },
    {
     "name": "stdout",
     "output_type": "stream",
     "text": [
      "\n",
      "****************************************************\n",
      "****************************************************\n",
      "****************************************************\n",
      "****************************************************\n",
      "****************************************************\n",
      "\n",
      "The column has all unique values\n",
      "0                              Braund, Mr. Owen Harris\n",
      "1    Cumings, Mrs. John Bradley (Florence Briggs Th...\n",
      "2                               Heikkinen, Miss. Laina\n",
      "3         Futrelle, Mrs. Jacques Heath (Lily May Peel)\n",
      "4                             Allen, Mr. William Henry\n",
      "Name: Name, dtype: object\n",
      "Feature Description:  Name of Passenger\n",
      "\n",
      "****************************************************\n",
      "****************************************************\n",
      "****************************************************\n",
      "****************************************************\n",
      "****************************************************\n",
      "\n",
      "male      577\n",
      "female    314\n",
      "Name: Sex, dtype: int64\n",
      "Total records with values:  891\n",
      "Total records with NaNs:  0\n",
      "Feature Description:  Gender\n"
     ]
    },
    {
     "data": {
      "image/png": "[encoded data removed]",
      "text/plain": [
       "<Figure size 432x288 with 2 Axes>"
      ]
     },
     "metadata": {
      "needs_background": "light"
     },
     "output_type": "display_data"
    },
    {
     "name": "stdout",
     "output_type": "stream",
     "text": [
      "\n",
      "****************************************************\n",
      "****************************************************\n",
      "****************************************************\n",
      "****************************************************\n",
      "****************************************************\n",
      "\n",
      "24.00    30\n",
      "22.00    27\n",
      "18.00    26\n",
      "19.00    25\n",
      "30.00    25\n",
      "28.00    25\n",
      "21.00    24\n",
      "25.00    23\n",
      "36.00    22\n",
      "29.00    20\n",
      "32.00    18\n",
      "27.00    18\n",
      "35.00    18\n",
      "26.00    18\n",
      "16.00    17\n",
      "31.00    17\n",
      "20.00    15\n",
      "33.00    15\n",
      "23.00    15\n",
      "34.00    15\n",
      "39.00    14\n",
      "17.00    13\n",
      "42.00    13\n",
      "40.00    13\n",
      "45.00    12\n",
      "38.00    11\n",
      "50.00    10\n",
      "2.00     10\n",
      "4.00     10\n",
      "47.00     9\n",
      "         ..\n",
      "71.00     2\n",
      "59.00     2\n",
      "63.00     2\n",
      "0.83      2\n",
      "30.50     2\n",
      "70.00     2\n",
      "57.00     2\n",
      "0.75      2\n",
      "13.00     2\n",
      "10.00     2\n",
      "64.00     2\n",
      "40.50     2\n",
      "32.50     2\n",
      "45.50     2\n",
      "20.50     1\n",
      "24.50     1\n",
      "0.67      1\n",
      "14.50     1\n",
      "0.92      1\n",
      "74.00     1\n",
      "34.50     1\n",
      "80.00     1\n",
      "12.00     1\n",
      "36.50     1\n",
      "53.00     1\n",
      "55.50     1\n",
      "70.50     1\n",
      "66.00     1\n",
      "23.50     1\n",
      "0.42      1\n",
      "Name: Age, Length: 88, dtype: int64\n",
      "Total records with values:  714\n",
      "Total records with NaNs:  177\n",
      "Feature Description:  Age of Passengers\n"
     ]
    },
    {
     "data": {
      "image/png": "[encoded data removed]",
      "text/plain": [
       "<Figure size 720x360 with 1 Axes>"
      ]
     },
     "metadata": {
      "needs_background": "light"
     },
     "output_type": "display_data"
    },
    {
     "name": "stdout",
     "output_type": "stream",
     "text": [
      "\n",
      "****************************************************\n",
      "****************************************************\n",
      "****************************************************\n",
      "****************************************************\n",
      "****************************************************\n",
      "\n",
      "0    608\n",
      "1    209\n",
      "2     28\n",
      "4     18\n",
      "3     16\n",
      "8      7\n",
      "5      5\n",
      "Name: SibSp, dtype: int64\n",
      "Total records with values:  891\n",
      "Total records with NaNs:  0\n",
      "Feature Description:  Number of Sibling/Spouse aboard\n"
     ]
    },
    {
     "data": {
      "image/png": "[encoded data removed]",
      "text/plain": [
       "<Figure size 720x360 with 1 Axes>"
      ]
     },
     "metadata": {
      "needs_background": "light"
     },
     "output_type": "display_data"
    },
    {
     "name": "stdout",
     "output_type": "stream",
     "text": [
      "\n",
      "****************************************************\n",
      "****************************************************\n",
      "****************************************************\n",
      "****************************************************\n",
      "****************************************************\n",
      "\n",
      "0    678\n",
      "1    118\n",
      "2     80\n",
      "5      5\n",
      "3      5\n",
      "4      4\n",
      "6      1\n",
      "Name: Parch, dtype: int64\n",
      "Total records with values:  891\n",
      "Total records with NaNs:  0\n",
      "Feature Description:  Number of Parent/Child aboard\n"
     ]
    },
    {
     "data": {
      "image/png": "[encoded data removed]",
      "text/plain": [
       "<Figure size 720x360 with 1 Axes>"
      ]
     },
     "metadata": {
      "needs_background": "light"
     },
     "output_type": "display_data"
    },
    {
     "name": "stdout",
     "output_type": "stream",
     "text": [
      "\n",
      "****************************************************\n",
      "****************************************************\n",
      "****************************************************\n",
      "****************************************************\n",
      "****************************************************\n",
      "\n",
      "CA. 2343        7\n",
      "1601            7\n",
      "347082          7\n",
      "347088          6\n",
      "CA 2144         6\n",
      "3101295         6\n",
      "382652          5\n",
      "S.O.C. 14879    5\n",
      "19950           4\n",
      "4133            4\n",
      "113760          4\n",
      "349909          4\n",
      "17421           4\n",
      "2666            4\n",
      "PC 17757        4\n",
      "LINE            4\n",
      "113781          4\n",
      "347077          4\n",
      "W./C. 6608      4\n",
      "239853          3\n",
      "C.A. 31921      3\n",
      "363291          3\n",
      "13502           3\n",
      "230080          3\n",
      "29106           3\n",
      "24160           3\n",
      "35273           3\n",
      "371110          3\n",
      "248727          3\n",
      "PC 17755        3\n",
      "               ..\n",
      "PC 17610        1\n",
      "228414          1\n",
      "229236          1\n",
      "27267           1\n",
      "349251          1\n",
      "4134            1\n",
      "113767          1\n",
      "PC 17476        1\n",
      "248706          1\n",
      "386525          1\n",
      "349249          1\n",
      "365222          1\n",
      "2663            1\n",
      "330877          1\n",
      "113059          1\n",
      "17463           1\n",
      "S.P. 3464       1\n",
      "29011           1\n",
      "349912          1\n",
      "27849           1\n",
      "S.W./PP 752     1\n",
      "350050          1\n",
      "315089          1\n",
      "350404          1\n",
      "33638           1\n",
      "PC 17612        1\n",
      "PC 17473        1\n",
      "PC 17475        1\n",
      "244270          1\n",
      "3460            1\n",
      "Name: Ticket, Length: 681, dtype: int64\n",
      "Total records with values:  891\n",
      "Total records with NaNs:  0\n",
      "Feature Description:  \n",
      "The column has 681 unique categorical values and will not be visualized\n",
      "\n",
      "****************************************************\n",
      "****************************************************\n",
      "****************************************************\n",
      "****************************************************\n",
      "****************************************************\n",
      "\n",
      "8.0500      43\n",
      "13.0000     42\n",
      "7.8958      38\n",
      "7.7500      34\n",
      "26.0000     31\n",
      "10.5000     24\n",
      "7.9250      18\n",
      "7.7750      16\n",
      "26.5500     15\n",
      "0.0000      15\n",
      "7.2292      15\n",
      "7.8542      13\n",
      "8.6625      13\n",
      "7.2500      13\n",
      "7.2250      12\n",
      "16.1000      9\n",
      "9.5000       9\n",
      "24.1500      8\n",
      "15.5000      8\n",
      "56.4958      7\n",
      "52.0000      7\n",
      "14.5000      7\n",
      "14.4542      7\n",
      "69.5500      7\n",
      "7.0500       7\n",
      "31.2750      7\n",
      "46.9000      6\n",
      "30.0000      6\n",
      "7.7958       6\n",
      "39.6875      6\n",
      "            ..\n",
      "7.1417       1\n",
      "42.4000      1\n",
      "211.5000     1\n",
      "12.2750      1\n",
      "61.1750      1\n",
      "8.4333       1\n",
      "51.4792      1\n",
      "7.8875       1\n",
      "8.6833       1\n",
      "7.5208       1\n",
      "34.6542      1\n",
      "28.7125      1\n",
      "25.5875      1\n",
      "7.7292       1\n",
      "12.2875      1\n",
      "8.6542       1\n",
      "8.7125       1\n",
      "61.3792      1\n",
      "6.9500       1\n",
      "9.8417       1\n",
      "8.3000       1\n",
      "13.7917      1\n",
      "9.4750       1\n",
      "13.4167      1\n",
      "26.3875      1\n",
      "8.4583       1\n",
      "9.8375       1\n",
      "8.3625       1\n",
      "14.1083      1\n",
      "17.4000      1\n",
      "Name: Fare, Length: 248, dtype: int64\n",
      "Total records with values:  891\n",
      "Total records with NaNs:  0\n",
      "Feature Description:  \n"
     ]
    },
    {
     "data": {
      "image/png": "[encoded data removed]",
      "text/plain": [
       "<Figure size 720x360 with 1 Axes>"
      ]
     },
     "metadata": {
      "needs_background": "light"
     },
     "output_type": "display_data"
    },
    {
     "name": "stdout",
     "output_type": "stream",
     "text": [
      "\n",
      "****************************************************\n",
      "****************************************************\n",
      "****************************************************\n",
      "****************************************************\n",
      "****************************************************\n",
      "\n",
      "G6             4\n",
      "B96 B98        4\n",
      "C23 C25 C27    4\n",
      "D              3\n",
      "C22 C26        3\n",
      "E101           3\n",
      "F2             3\n",
      "F33            3\n",
      "C126           2\n",
      "D20            2\n",
      "F G73          2\n",
      "C78            2\n",
      "C65            2\n",
      "C68            2\n",
      "C52            2\n",
      "E67            2\n",
      "F4             2\n",
      "E25            2\n",
      "B58 B60        2\n",
      "E33            2\n",
      "C124           2\n",
      "D35            2\n",
      "E44            2\n",
      "B49            2\n",
      "D33            2\n",
      "C83            2\n",
      "D17            2\n",
      "B51 B53 B55    2\n",
      "D36            2\n",
      "C125           2\n",
      "              ..\n",
      "D48            1\n",
      "F G63          1\n",
      "E17            1\n",
      "B3             1\n",
      "T              1\n",
      "A32            1\n",
      "B39            1\n",
      "C45            1\n",
      "B101           1\n",
      "A7             1\n",
      "C62 C64        1\n",
      "C106           1\n",
      "A20            1\n",
      "B50            1\n",
      "D15            1\n",
      "E31            1\n",
      "C50            1\n",
      "C85            1\n",
      "D45            1\n",
      "B94            1\n",
      "D7             1\n",
      "A5             1\n",
      "A10            1\n",
      "B80            1\n",
      "E46            1\n",
      "E38            1\n",
      "A6             1\n",
      "A23            1\n",
      "D10 D12        1\n",
      "E58            1\n",
      "Name: Cabin, Length: 147, dtype: int64\n",
      "Total records with values:  204\n",
      "Total records with NaNs:  687\n",
      "Feature Description:  \n",
      "The column has 148 unique categorical values and will not be visualized\n",
      "\n",
      "****************************************************\n",
      "****************************************************\n",
      "****************************************************\n",
      "****************************************************\n",
      "****************************************************\n",
      "\n",
      "S    644\n",
      "C    168\n",
      "Q     77\n",
      "Name: Embarked, dtype: int64\n",
      "Total records with values:  889\n",
      "Total records with NaNs:  2\n",
      "Feature Description:  The port in which a passenger has embarked. C - Cherbourg, S - Southampton, Q = Queenstown\n"
     ]
    },
    {
     "data": {
      "image/png": "[encoded data removed]",
      "text/plain": [
       "<Figure size 432x288 with 4 Axes>"
      ]
     },
     "metadata": {
      "needs_background": "light"
     },
     "output_type": "display_data"
    },
    {
     "name": "stdout",
     "output_type": "stream",
     "text": [
      "\n",
      "****************************************************\n",
      "****************************************************\n",
      "****************************************************\n",
      "****************************************************\n",
      "****************************************************\n",
      "\n"
     ]
    }
   ],
   "source": [
    "for column in titanic:\n",
    "    #print(source[column])\n",
    "    if titanic[column].duplicated().any() == True:\n",
    "        print( titanic[column].value_counts() )\n",
    "        print( 'Total records with values: ', titanic[column].count())\n",
    "        print( 'Total records with NaNs: ', titanic[column].isnull().sum())\n",
    "        print( 'Feature Description: ', featuresDesc[column])\n",
    "        \n",
    "        if titanic[column].dtype == np.float64 or titanic[column].dtype == np.int64:\n",
    "            plt.figure(figsize=(10,5))\n",
    "            plt.hist(titanic[titanic['Survived'] == 1][column], bins=20, Alpha=0.5, label = 'Survived')\n",
    "            plt.hist(titanic[titanic['Survived'] == 0][column], bins=20, Alpha=0.5, label = 'Not Survived')\n",
    "            plt.legend(loc='upper right')\n",
    "            plt.xlabel(column)\n",
    "            plt.ylabel('Count')\n",
    "            plt.show()\n",
    "        else:\n",
    "            if len(titanic[column].unique().tolist()) <= 6:\n",
    "                titanic.hist(by=column,column = 'Survived')\n",
    "                plt.show()\n",
    "            else: \n",
    "                print('The column has {} unique categorical values and will not be visualized'.format(len(titanic[column].unique().tolist())))\n",
    "        \n",
    "    else:\n",
    "        print('The column has all unique values')\n",
    "        print( titanic[column].head() )\n",
    "        print( 'Feature Description: ', featuresDesc[column])\n",
    "    print('')\n",
    "    print('****************************************************')\n",
    "    print('****************************************************')\n",
    "    print('****************************************************')\n",
    "    print('****************************************************')\n",
    "    print('****************************************************')\n",
    "    print('')"
   ]
  },
  {
   "cell_type": "markdown",
   "metadata": {},
   "source": [
    "## Outcomes with some Feature Engineering:\n",
    "1) **Survived** ( 342 passenger survived out of the 891 total passengers in the test dataset )\n",
    "<br>\n",
    "2) **PClass** ( The majorty of the passengers are on the 3rd class of travel,  the higher the class the higher the survival rate )\n",
    "<br>\n",
    "3) **Sex** ( female passengers have a higher survival rate than for the male passengers )\n",
    "<br>\n",
    "4) **Age** ( ranges from 0 to 80 years, normal distribution skewed left, 0-15 & 25-35 years have higher survival rate when compared to other ranges, 177 missing values )\n",
    "<br>\n",
    "5) **SibSp** & **Parch** ( Passengers traveling alone with no relatives have a lower rate of survival )\n",
    "<br>\n",
    "6) **Ticket** ( Some passengers shares the same ticket number due to travelling together and in many cases are relatives )\n",
    "<br>\n",
    "7) **Fare** ( The low ticket fare have low survival rate, same as the PClass nothing new )\n",
    "<br>\n",
    "8) **Cabin** ( Has a lot of missing values and it is better to discard it )\n",
    "<br>\n",
    "9) **Embarked** ( Majority of passengers embarked in Southampton port, Passengers embarked in Cherbourg have higher survival rate when compared to Southhampton and Queenstown ports )\n",
    "<br>\n",
    "<br>\n",
    "Since we have passengers sharing the same ticket number which means they know each other or in other words traveling together and in most cases are relatives, The dataset can be visualized with a graph to let us have a better data understanding. \n",
    "<br>\n",
    "<br>\n",
    "networkx library is suitable for visualizing graphs:"
   ]
  },
  {
   "cell_type": "code",
   "execution_count": 24,
   "metadata": {},
   "outputs": [],
   "source": [
    "import networkx as nx"
   ]
  },
  {
   "cell_type": "markdown",
   "metadata": {},
   "source": [
    "The following is a funtion for drawing the network and it takes three inputs:\n",
    "<br>\n",
    "1) Pclass: The class of travel ( the graph will draw only the passenger that are in one class of travel at a time because drawing all of the passengers in one graph will not be clear ).\n",
    "<br>\n",
    "2) size1: hoizontal length of the plot.\n",
    "<br>\n",
    "3) size2: vertical length of the plot.\n",
    "<br>\n",
    "<br>\n",
    "What will be drawn:\n",
    "<br>\n",
    "1) each passenger will be represented as node in the graph.\n",
    "<br>\n",
    "2) the nodes representing passengers that shares the same ticket will connected together.\n",
    "<br>\n",
    "3) The graph will represent a male passenger with a circle node shape and female passenger with a triangle node shape.\n",
    "<br>\n",
    "4) The Survived passengers will have green color node and the not survived passengers will have red color node."
   ]
  },
  {
   "cell_type": "code",
   "execution_count": 27,
   "metadata": {},
   "outputs": [],
   "source": [
    "def draw_titanic_network( Pclass, size1, size2 ):\n",
    "    \n",
    "    # Filter the passengers with the input class\n",
    "    df_class = titanic.loc[titanic['Pclass'].isin([Pclass])]\n",
    "\n",
    "    # To draw edges we need to know which passengers shares the same ticket number and which are traveling alone\n",
    "    source_tickets = df_class['Ticket'].copy()\n",
    "    source_tickets_dups = source_tickets[source_tickets.duplicated()].copy()\n",
    "    source_dups = df_class[df_class['Ticket'].isin( source_tickets_dups)] \n",
    "    source_not_dups =  df_class[~df_class['Ticket'].isin( source_tickets_dups)]\n",
    "\n",
    "    # Creating lists that holds passengers traveling alone and wehter survived or not and wether male or female passenger\n",
    "    source_not_dups_survived = source_not_dups[source_not_dups['Survived'].isin([1])]\n",
    "    source_not_dups_survived_male = list( source_not_dups_survived[source_not_dups_survived['Sex'].isin(['male'])]['Name'] )\n",
    "    source_not_dups_survived_female = list( source_not_dups_survived[source_not_dups_survived['Sex'].isin(['female'])]['Name'] )\n",
    "    source_not_dups_not_survived = source_not_dups[~source_not_dups['Survived'].isin([1])]\n",
    "    source_not_dups_not_survived_male = list( source_not_dups_not_survived[source_not_dups_not_survived['Sex'].isin(['male'])]['Name'] )\n",
    "    source_not_dups_not_survived_female = list( source_not_dups_not_survived[source_not_dups_not_survived['Sex'].isin(['female'])]['Name'] )\n",
    "\n",
    "    # Creating a networkx object that have edges connecting the passenger nodes sharing the same ticket together  \n",
    "    FG = nx.from_pandas_edgelist(source_dups, source='Name', target='Ticket', edge_attr='Survived',)\n",
    "\n",
    "    # Creating lists that holds the passengers that are not traveling alone and whether survived or not and wether male or female passenger \n",
    "    arr_color_female = []\n",
    "    arr_color_male = []\n",
    "    nodes_female = []\n",
    "    nodes_male = []\n",
    "\n",
    "    for node in list(FG.nodes()):\n",
    "    \n",
    "        if len(FG.edges(node)) == 1 & df_class['Name'].isin([node]).any() == True:\n",
    "\n",
    "            if df_class['Sex'].loc[df_class['Name'].isin([node])].iloc[0] == 'female':\n",
    "                nodes_female.append(node)\n",
    "                if df_class['Survived'].loc[df_class['Name'].isin([node])].iloc[0] == 1:\n",
    "                    arr_color_female.append('green')\n",
    "                else:\n",
    "                    arr_color_female.append('red') \n",
    "            else:\n",
    "                nodes_male.append(node)\n",
    "                if df_class['Survived'].loc[df_class['Name'].isin([node])].iloc[0] == 1:\n",
    "                    arr_color_male.append('green')\n",
    "                else:\n",
    "                    arr_color_male.append('red')\n",
    "\n",
    "    # Creating the plot with figure input figure sizes\n",
    "    plt.figure(1,figsize=(size1,size2))\n",
    "    \n",
    "    # Draw the edge ( i.e. lines connecting nodes that shares the same ticket )\n",
    "    position=nx.spring_layout(FG)\n",
    "    nx.draw_networkx_edges(FG, pos=position)\n",
    "\n",
    "    # Draw nodes that represents passengers that are not travelling alone and set its colors and shapes\n",
    "    nx.draw_networkx_nodes(FG, with_labels=False, node_size=40,node_color=arr_color_female, nodelist=nodes_female, node_shape='v', pos=position)\n",
    "    nx.draw_networkx_nodes(FG, with_labels=False, node_size=40,node_color=arr_color_male, nodelist=nodes_male, node_shape='o', pos=position)\n",
    "\n",
    "    # Draw nodes that represents passengers that are traveling alone and set its colors and shapes\n",
    "    FG.add_nodes_from source_not_dups_survived_male )\n",
    "    position=nx.spring_layout(FG, scale=0.15)\n",
    "    nx.draw_networkx_nodes(FG, with_labels=False, node_size=40, node_color='green', nodelist=source_not_dups_survived_male, node_shape='o', pos=position)\n",
    "\n",
    "    FG.add_nodes_from( source_not_dups_not_survived_male )\n",
    "    position=nx.spring_layout(FG, scale=0.7)\n",
    "    nx.draw_networkx_nodes(FG, with_labels=False, node_size=40, node_color='red', nodelist=source_not_dups_not_survived_male, node_shape='o', pos=position)\n",
    "\n",
    "    FG.add_nodes_from( source_not_dups_survived_female )\n",
    "    position=nx.spring_layout(FG, scale=0.5)\n",
    "    nx.draw_networkx_nodes(FG, with_labels=False, node_size=40, node_color='green', nodelist=source_not_dups_survived_female, node_shape='v', pos=position)\n",
    "\n",
    "    FG.add_nodes_from( source_not_dups_not_survived_female )\n",
    "    position=nx.spring_layout(FG, scale=0.4)\n",
    "    nx.draw_networkx_nodes(FG, with_labels=False, node_size=40, node_color='red', nodelist=source_not_dups_not_survived_female, node_shape='v', pos=position)\n",
    "\n",
    "    #plt.legend(['Class 3'], prop={'size': 15}, frameon=True) \n",
    "    plt.axis('off')\n",
    "    plt.show()"
   ]
  },
  {
   "cell_type": "markdown",
   "metadata": {},
   "source": [
    "A long function :( , but let's see the results\n",
    "<br>\n",
    "<br>\n",
    "Drawing passengers for the 1st class:"
   ]
  },
  {
   "cell_type": "code",
   "execution_count": 30,
   "metadata": {},
   "outputs": [
    {
     "name": "stderr",
     "output_type": "stream",
     "text": [
      "C:\\ProgramData\\Anaconda3\\envs\\tf-gpu\\lib\\site-packages\\networkx\\drawing\\nx_pylab.py:579: MatplotlibDeprecationWarning: \n",
      "The iterable function was deprecated in Matplotlib 3.1 and will be removed in 3.3. Use np.iterable instead.\n",
      "  if not cb.iterable(width):\n"
     ]
    },
    {
     "data": {
      "image/png": "[encoded data removed]",
      "text/plain": [
       "<Figure size 864x864 with 1 Axes>"
      ]
     },
     "metadata": {},
     "output_type": "display_data"
    }
   ],
   "source": [
    "draw_titanic_network(1, 12, 12)"
   ]
  },
  {
   "cell_type": "markdown",
   "metadata": {},
   "source": [
    "The graph is telling us the following about the 1st class:\n",
    "<br>\n",
    "<br>\n",
    "1) The majority of the passengers in the 1st class are male passengers ( circle nodes )\n",
    "<br>\n",
    "2) The survived male passengers traveling alone are less than the not survived ones.\n",
    "<br>\n",
    "3) Only one female passenger traveling alone not survived.\n",
    "<br>\n",
    "4) Passengers not traveling alone ( travel groups ) have a higher survival rate when compared to passengers traveling alone.\n",
    "<br>\n",
    "5) Some Passengers groups have the female passengers Survived while male passengers not survived.\n",
    "<br>\n",
    "<br>\n",
    "What about class 2 ?"
   ]
  },
  {
   "cell_type": "code",
   "execution_count": 31,
   "metadata": {},
   "outputs": [
    {
     "name": "stderr",
     "output_type": "stream",
     "text": [
      "C:\\ProgramData\\Anaconda3\\envs\\tf-gpu\\lib\\site-packages\\networkx\\drawing\\nx_pylab.py:579: MatplotlibDeprecationWarning: \n",
      "The iterable function was deprecated in Matplotlib 3.1 and will be removed in 3.3. Use np.iterable instead.\n",
      "  if not cb.iterable(width):\n"
     ]
    },
    {
     "data": {
      "image/png": "[encoded data removed]",
      "text/plain": [
       "<Figure size 864x864 with 1 Axes>"
      ]
     },
     "metadata": {},
     "output_type": "display_data"
    }
   ],
   "source": [
    "draw_titanic_network(2, 12, 12)"
   ]
  },
  {
   "cell_type": "markdown",
   "metadata": {},
   "source": [
    "Class 2 is to some extent similar to Class 1\n",
    "\n",
    "What about class 3 ( adjusting the graph size to 18 x 18 because we have higher number of nodes ) ?"
   ]
  },
  {
   "cell_type": "code",
   "execution_count": 35,
   "metadata": {},
   "outputs": [
    {
     "name": "stderr",
     "output_type": "stream",
     "text": [
      "C:\\ProgramData\\Anaconda3\\envs\\tf-gpu\\lib\\site-packages\\networkx\\drawing\\nx_pylab.py:579: MatplotlibDeprecationWarning: \n",
      "The iterable function was deprecated in Matplotlib 3.1 and will be removed in 3.3. Use np.iterable instead.\n",
      "  if not cb.iterable(width):\n"
     ]
    },
    {
     "data": {
      "image/png": "[encoded data removed]",
      "text/plain": [
       "<Figure size 1296x1296 with 1 Axes>"
      ]
     },
     "metadata": {},
     "output_type": "display_data"
    }
   ],
   "source": [
    "draw_titanic_network(3, 18, 18)"
   ]
  },
  {
   "cell_type": "markdown",
   "metadata": {},
   "source": [
    "Passengers in 3rd class have a low survival rate when compared to class 1 & class 2.\n",
    "<br>\n",
    "Passengers traveling in groups in many cases survived together or not survived. ( An indication that this feature is important in predicting the survived passengers )."
   ]
  },
  {
   "cell_type": "markdown",
   "metadata": {},
   "source": [
    "## Modeling\n",
    "Note: In this tutorial i will build a Naive Bayes classifier model to predict our target label and build other classification models in later updates of this tutorial.\n",
    "<br>\n",
    "<br>\n",
    "Naive Bayes classifier is based on the Bayes theorm which classifies the target label according to its probabilities related to the existance of a certain input pattern in the features while assuming that the features doesn't depend on each other.\n",
    "<br>\n",
    "This means that this classifier might not help in using the insight we extracted previously that the passengers sharing the same ticket number have a relation with the survival i.e. survived togher and not survived together.\n",
    "<br>\n",
    "<br>\n",
    "Example: In our test dataset we have 549 passenger not survived and 342 survived and that means the probability of not surviving is higher than surviving, but if know that the passenger gender is female, the probability of surviving will be affected by this input and be increased accordingly and so on for the other inputs.\n",
    "<br>\n",
    "<br>\n",
    "To build a Naive Bayes classifier we need to select the input features and preprocess them so that we can properly use them as an input to our model.\n",
    "<br>\n",
    "I'll be using Scikit learn library to create an instance of the Naive Bayes classification model. and this model only accept numerical input for our features and expects that the features does not have missing values.\n",
    "<br>\n",
    "<br>\n",
    "I will select the Pclass, Sex, Age, Embarked features as an input to this model while our label target is the Survived column.\n",
    "<br>\n",
    "The Pclass, Sex, Embarked features are categorical features and we have to convert them into numerical values representing the categories they hold using the sklearn Label Encoder.\n",
    "<br>\n",
    "The Embarked and Age features have missing values and requires to be filled by values or dropping the records that have missing information.\n",
    "<br>\n",
    "The other features are discarded because they are not suitable for this classifier or requires a different of classification algorithm and to avoid having overfitted model. "
   ]
  },
  {
   "cell_type": "code",
   "execution_count": 36,
   "metadata": {},
   "outputs": [],
   "source": [
    "from sklearn import preprocessing"
   ]
  },
  {
   "cell_type": "code",
   "execution_count": 38,
   "metadata": {},
   "outputs": [],
   "source": [
    "Sex_Encoded = None\n",
    "Embarked_Encoded = None\n",
    "le = preprocessing.LabelEncoder()\n",
    "Sex_Encoded = le.fit_transform(titanic['Sex']) # female will be replaced with the number (1) and male will be the number (0)\n",
    "Sex_Encoded = pd.DataFrame(Sex_Encoded)\n",
    "Embarked_Encoded = le.fit_transform(titanic['Embarked'].fillna('C')) # Embarked have 2 missing values filled with 'C' value\n",
    "Embarked_Encoded = pd.DataFrame(Embarked_Encoded)"
   ]
  },
  {
   "cell_type": "markdown",
   "metadata": {},
   "source": [
    "The 'Age' feature have 177 missing which is a quite high number, and if we drop these records we will end up with a smaller dataset and that is not recommended.\n",
    "<br>\n",
    "Instead i will fill the missing random values within the range of the ages in our test dataset and maintain the original distrbution of it."
   ]
  },
  {
   "cell_type": "code",
   "execution_count": 41,
   "metadata": {},
   "outputs": [
    {
     "name": "stdout",
     "output_type": "stream",
     "text": [
      "Missing Values in Age:  177\n",
      "Age Histogram wrt to Survived before filling na values\n"
     ]
    },
    {
     "name": "stderr",
     "output_type": "stream",
     "text": [
      "C:\\ProgramData\\Anaconda3\\envs\\tf-gpu\\lib\\site-packages\\numpy\\lib\\histograms.py:824: RuntimeWarning: invalid value encountered in greater_equal\n",
      "  keep = (tmp_a >= first_edge)\n",
      "C:\\ProgramData\\Anaconda3\\envs\\tf-gpu\\lib\\site-packages\\numpy\\lib\\histograms.py:825: RuntimeWarning: invalid value encountered in less_equal\n",
      "  keep &= (tmp_a <= last_edge)\n"
     ]
    },
    {
     "data": {
      "image/png": "[encoded data removed]",
      "text/plain": [
       "<Figure size 720x360 with 1 Axes>"
      ]
     },
     "metadata": {
      "needs_background": "light"
     },
     "output_type": "display_data"
    },
    {
     "name": "stdout",
     "output_type": "stream",
     "text": [
      "Missing Values in Age:  0\n",
      "Age Histogram wrt to Survived after filling na values with random values in Age range\n"
     ]
    },
    {
     "data": {
      "image/png": "[encoded data removed]",
      "text/plain": [
       "<Figure size 720x360 with 1 Axes>"
      ]
     },
     "metadata": {
      "needs_background": "light"
     },
     "output_type": "display_data"
    }
   ],
   "source": [
    "print( 'Missing Values in Age: ', titanic['Age'].isna().sum() )\n",
    "print( 'Age Histogram wrt to Survived before filling na values')\n",
    "plt.figure(figsize=(10,5))\n",
    "plt.hist(titanic[titanic['Survived'] == 1]['Age'], bins=20, Alpha=0.5, label = 'Survived')\n",
    "plt.hist(titanic[titanic['Survived'] == 0]['Age'], bins=20, Alpha=0.5, label = 'Not Survived')\n",
    "plt.legend(loc='upper right')\n",
    "plt.xlabel(column)\n",
    "plt.ylabel('Count')\n",
    "plt.show()\n",
    "\n",
    "Age_Counts = titanic['Age'].value_counts(normalize=True)\n",
    "missing = titanic['Age'].isnull()\n",
    "titanic.loc[missing,'Age'] = np.random.choice(Age_Counts.index, size=len(titanic[missing]),p=Age_Counts.values)\n",
    "\n",
    "print( 'Missing Values in Age: ', titanic['Age'].isna().sum() )\n",
    "print( 'Age Histogram wrt to Survived after filling na values with random values in Age range')\n",
    "\n",
    "plt.figure(figsize=(10,5))\n",
    "plt.hist(titanic[titanic['Survived'] == 1]['Age'], bins=20, Alpha=0.5, label = 'Survived')\n",
    "plt.hist(titanic[titanic['Survived'] == 0]['Age'], bins=20, Alpha=0.5, label = 'Not Survived')\n",
    "plt.legend(loc='upper right')\n",
    "plt.xlabel(column)\n",
    "plt.ylabel('Count')\n",
    "plt.show()"
   ]
  },
  {
   "cell_type": "markdown",
   "metadata": {},
   "source": [
    "Filling the Age missing values with random values will have a negative effect on the prediction, but let's accept this risk for the time being.\n",
    "\n",
    "Now we combine the selected and preprocessed features in one dataframe."
   ]
  },
  {
   "cell_type": "code",
   "execution_count": 43,
   "metadata": {},
   "outputs": [
    {
     "data": {
      "text/html": [
       "<div>\n",
       "<style scoped>\n",
       "    .dataframe tbody tr th:only-of-type {\n",
       "        vertical-align: middle;\n",
       "    }\n",
       "\n",
       "    .dataframe tbody tr th {\n",
       "        vertical-align: top;\n",
       "    }\n",
       "\n",
       "    .dataframe thead th {\n",
       "        text-align: right;\n",
       "    }\n",
       "</style>\n",
       "<table border=\"1\" class=\"dataframe\">\n",
       "  <thead>\n",
       "    <tr style=\"text-align: right;\">\n",
       "      <th></th>\n",
       "      <th>Sex</th>\n",
       "      <th>Pclass</th>\n",
       "      <th>Age</th>\n",
       "    </tr>\n",
       "  </thead>\n",
       "  <tbody>\n",
       "    <tr>\n",
       "      <th>0</th>\n",
       "      <td>1</td>\n",
       "      <td>3</td>\n",
       "      <td>22.0</td>\n",
       "    </tr>\n",
       "    <tr>\n",
       "      <th>1</th>\n",
       "      <td>0</td>\n",
       "      <td>1</td>\n",
       "      <td>38.0</td>\n",
       "    </tr>\n",
       "    <tr>\n",
       "      <th>2</th>\n",
       "      <td>0</td>\n",
       "      <td>3</td>\n",
       "      <td>26.0</td>\n",
       "    </tr>\n",
       "    <tr>\n",
       "      <th>3</th>\n",
       "      <td>0</td>\n",
       "      <td>1</td>\n",
       "      <td>35.0</td>\n",
       "    </tr>\n",
       "    <tr>\n",
       "      <th>4</th>\n",
       "      <td>1</td>\n",
       "      <td>3</td>\n",
       "      <td>35.0</td>\n",
       "    </tr>\n",
       "    <tr>\n",
       "      <th>5</th>\n",
       "      <td>1</td>\n",
       "      <td>3</td>\n",
       "      <td>42.0</td>\n",
       "    </tr>\n",
       "    <tr>\n",
       "      <th>6</th>\n",
       "      <td>1</td>\n",
       "      <td>1</td>\n",
       "      <td>54.0</td>\n",
       "    </tr>\n",
       "    <tr>\n",
       "      <th>7</th>\n",
       "      <td>1</td>\n",
       "      <td>3</td>\n",
       "      <td>2.0</td>\n",
       "    </tr>\n",
       "    <tr>\n",
       "      <th>8</th>\n",
       "      <td>0</td>\n",
       "      <td>3</td>\n",
       "      <td>27.0</td>\n",
       "    </tr>\n",
       "    <tr>\n",
       "      <th>9</th>\n",
       "      <td>0</td>\n",
       "      <td>2</td>\n",
       "      <td>14.0</td>\n",
       "    </tr>\n",
       "  </tbody>\n",
       "</table>\n",
       "</div>"
      ],
      "text/plain": [
       "   Sex  Pclass   Age\n",
       "0    1       3  22.0\n",
       "1    0       1  38.0\n",
       "2    0       3  26.0\n",
       "3    0       1  35.0\n",
       "4    1       3  35.0\n",
       "5    1       3  42.0\n",
       "6    1       1  54.0\n",
       "7    1       3   2.0\n",
       "8    0       3  27.0\n",
       "9    0       2  14.0"
      ]
     },
     "execution_count": 43,
     "metadata": {},
     "output_type": "execute_result"
    }
   ],
   "source": [
    "features = Sex_Encoded.copy()\n",
    "features.rename(columns={ features.columns[0]: \"Sex\" }, inplace=True)\n",
    "features['Pclass'] = titanic['Pclass']\n",
    "features['Age'] = titanic['Age']\n",
    "# I discarded the Embarked feature after i found that it decreased the model accuracy.\n",
    "# features['Embarked'] = Embarked_Encoded\n",
    "features.head(10)"
   ]
  },
  {
   "cell_type": "markdown",
   "metadata": {},
   "source": [
    "The label 'Survived' is already encoded with 0s indicating not survived and 1s indicating survived passengers, and there is no need to apply any preprocessing on it."
   ]
  },
  {
   "cell_type": "code",
   "execution_count": 45,
   "metadata": {},
   "outputs": [
    {
     "name": "stdout",
     "output_type": "stream",
     "text": [
      "0    0\n",
      "1    1\n",
      "2    1\n",
      "3    1\n",
      "4    0\n",
      "5    0\n",
      "6    0\n",
      "7    0\n",
      "8    1\n",
      "9    1\n",
      "Name: Survived, dtype: int64\n"
     ]
    }
   ],
   "source": [
    "label = titanic['Survived']\n",
    "print( label[:10] )"
   ]
  },
  {
   "cell_type": "markdown",
   "metadata": {},
   "source": [
    "Now we can build our Naive bayes classifier as follows: "
   ]
  },
  {
   "cell_type": "code",
   "execution_count": 46,
   "metadata": {},
   "outputs": [],
   "source": [
    "from sklearn.naive_bayes import GaussianNB\n",
    "from sklearn.model_selection import train_test_split # to split the original test dataset into sub train and test sets\n",
    "from sklearn.metrics import classification_report # to get the performance metrics of our model"
   ]
  },
  {
   "cell_type": "markdown",
   "metadata": {},
   "source": [
    "Splitting the original dataset is necessary to evaluate the model accuracy."
   ]
  },
  {
   "cell_type": "code",
   "execution_count": 47,
   "metadata": {},
   "outputs": [
    {
     "name": "stdout",
     "output_type": "stream",
     "text": [
      "X_train: \t 712      Sex  Pclass   Age\n",
      "625    1       1  61.0\n",
      "334    0       1  19.0\n",
      "274    0       3  34.0\n",
      "869    1       3   4.0\n",
      "204    1       3  18.0\n",
      "642    0       3   2.0\n",
      "146    1       3  27.0\n",
      "668    1       3  43.0\n",
      "446    0       2  13.0\n",
      "774    0       2  54.0\n",
      "X_test: \t 179      Sex  Pclass   Age\n",
      "394    0       3  24.0\n",
      "283    1       3  19.0\n",
      "799    0       3  30.0\n",
      "569    1       3  32.0\n",
      "187    1       1  45.0\n",
      "286    1       3  30.0\n",
      "347    0       3  24.0\n",
      "616    1       3  34.0\n",
      "72     1       2  21.0\n",
      "231    1       3  29.0\n",
      "y_train: \t 712 625    0\n",
      "334    1\n",
      "274    1\n",
      "869    1\n",
      "204    1\n",
      "642    0\n",
      "146    1\n",
      "668    0\n",
      "446    1\n",
      "774    1\n",
      "Name: Survived, dtype: int64\n",
      "y_test: \t 179 394    1\n",
      "283    1\n",
      "799    0\n",
      "569    1\n",
      "187    1\n",
      "286    1\n",
      "347    1\n",
      "616    0\n",
      "72     0\n",
      "231    0\n",
      "Name: Survived, dtype: int64\n"
     ]
    }
   ],
   "source": [
    "X_train, X_test, y_train, y_test = train_test_split(features, label, test_size=0.2)\n",
    "print('X_train: \\t', len(X_train),  X_train[:10])\n",
    "print('X_test: \\t', len(X_test), X_test[:10])\n",
    "print('y_train: \\t', len(y_train), y_train[:10])\n",
    "print('y_test: \\t', len(y_test), y_test[:10])"
   ]
  },
  {
   "cell_type": "code",
   "execution_count": 48,
   "metadata": {},
   "outputs": [
    {
     "data": {
      "text/plain": [
       "GaussianNB(priors=None, var_smoothing=1e-09)"
      ]
     },
     "execution_count": 48,
     "metadata": {},
     "output_type": "execute_result"
    }
   ],
   "source": [
    "# Creating and fitting the Gaussian Naive Bayes model\n",
    "model = GaussianNB()\n",
    "model.fit(X_train, y_train)"
   ]
  },
  {
   "cell_type": "code",
   "execution_count": 49,
   "metadata": {},
   "outputs": [
    {
     "name": "stdout",
     "output_type": "stream",
     "text": [
      "<class 'numpy.ndarray'>\n",
      "[1 0 1 0 0 0 1 0 0 0]\n"
     ]
    }
   ],
   "source": [
    "# Predicting the Survived label using the sub test dataset\n",
    "y_pred = model.predict(X_test)\n",
    "print( type(y_pred) )\n",
    "#show a sample of the predicted values\n",
    "print( y_pred[:10] )"
   ]
  },
  {
   "cell_type": "markdown",
   "metadata": {},
   "source": [
    "## Model Evaluation"
   ]
  },
  {
   "cell_type": "code",
   "execution_count": 50,
   "metadata": {},
   "outputs": [],
   "source": [
    "from sklearn import metrics"
   ]
  },
  {
   "cell_type": "code",
   "execution_count": 51,
   "metadata": {},
   "outputs": [
    {
     "name": "stdout",
     "output_type": "stream",
     "text": [
      "Accuracy:  0.8100558659217877\n"
     ]
    }
   ],
   "source": [
    "print(\"Accuracy: \", metrics.accuracy_score(y_test, y_pred))"
   ]
  },
  {
   "cell_type": "markdown",
   "metadata": {},
   "source": [
    "Great! Our Naive Bayes Model resulted in 81% accuracy.\n",
    "\n",
    "What about the confusion matrix reseults ?"
   ]
  },
  {
   "cell_type": "code",
   "execution_count": 52,
   "metadata": {},
   "outputs": [
    {
     "name": "stdout",
     "output_type": "stream",
     "text": [
      "True Neg:  90\n",
      "False Pos:  9\n",
      "False Neg:  25\n",
      "True Pos:  55\n"
     ]
    }
   ],
   "source": [
    "tn, fp, fn, tp = metrics.confusion_matrix(y_test, y_pred).ravel()\n",
    "print( 'True Neg: ', tn)\n",
    "print( 'False Neg: ', fn)\n",
    "print( 'True Pos: ', tp)\n",
    "print( 'False Pos: ', fp)"
   ]
  },
  {
   "cell_type": "markdown",
   "metadata": {},
   "source": [
    "Not bad.\n",
    "<br>\n",
    "<br>\n",
    "But to be confident that the model performance will work well on unseen data i will use the cross validation class of the sklearn library which basically splits the dataset into training and test sets and evaluate the model and then splits the data again ensuring the previous split does not have the same splitted values of the the next split.\n",
    "<br>\n",
    "<br>\n",
    "This cross validation technique helps us know that our model is generalized enough to result in good accuracy when applied on unseen data. "
   ]
  },
  {
   "cell_type": "code",
   "execution_count": 53,
   "metadata": {},
   "outputs": [],
   "source": [
    "from sklearn.model_selection import cross_validate"
   ]
  },
  {
   "cell_type": "code",
   "execution_count": 54,
   "metadata": {},
   "outputs": [
    {
     "name": "stdout",
     "output_type": "stream",
     "text": [
      "Accuracy for each split:  [0.79888268 0.81005587 0.79213483 0.75280899 0.78531073]\n",
      "Mean Accuracy:  0.7878386204348059\n"
     ]
    }
   ],
   "source": [
    "cv_results = cross_validate(model, features, label, scoring='accuracy', cv=5) # 5 different folds/splits\n",
    "print( 'Accuracy for each split: ', cv_results['test_score'] )\n",
    "print( 'Mean Accuracy: ', cv_results['test_score'].mean())"
   ]
  },
  {
   "cell_type": "markdown",
   "metadata": {},
   "source": [
    "## Conclusion\n",
    "\n",
    "Wonderful. With this we can expect that our Naive Bayes model will result in around 79% accuracy on unseen data such as the titanic test dataset in kaggle competition.\n",
    "\n",
    "Next: Can we get better accuracy using other classification algorithm ?\n",
    "Let's invistigate it later.\n",
    "\n",
    "Author: Alaa J. Jaradat\n",
    "<br>\n",
    "Linkedin Profile: https://www.linkedin.com/in/alaa-jaradat-4a279128/\n",
    "<br>\n",
    "Date/Time: July 08, 2019 17:54 AST\n",
    "<br>\n",
    "<br>\n",
    "To be continued. Stay Tuned."
   ]
  }
 ],
 "metadata": {
  "kernelspec": {
   "display_name": "TensorFlow-GPU",
   "language": "python",
   "name": "tf-gpu"
  },
  "language_info": {
   "codemirror_mode": {
    "name": "ipython",
    "version": 3
   },
   "file_extension": ".py",
   "mimetype": "text/x-python",
   "name": "python",
   "nbconvert_exporter": "python",
   "pygments_lexer": "ipython3",
   "version": "3.7.3"
  }
 },
 "nbformat": 4,
 "nbformat_minor": 2
}
